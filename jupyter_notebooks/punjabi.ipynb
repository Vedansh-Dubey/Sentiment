{
 "cells": [
  {
   "cell_type": "code",
   "execution_count": null,
   "metadata": {},
   "outputs": [],
   "source": [
    "import pandas as pd"
   ]
  },
  {
   "cell_type": "code",
   "execution_count": null,
   "metadata": {},
   "outputs": [],
   "source": [
    "lexicon = pd.read_csv(\"../data/punjabi_lexicon.csv\")\n",
    "print(lexicon.head())"
   ]
  },
  {
   "cell_type": "code",
   "execution_count": null,
   "metadata": {},
   "outputs": [],
   "source": [
    "import re\n",
    "import string\n",
    "\n",
    "import string\n",
    "\n",
    "def clear_text(text):\n",
    "    # List of all English characters and numbers\n",
    "    eng_chars = string.ascii_letters + string.digits\n",
    "\n",
    "    # List of all punctuation characters\n",
    "    punc_chars = string.punctuation\n",
    "\n",
    "    # Combine the two lists\n",
    "    remove_chars = eng_chars + punc_chars\n",
    "\n",
    "    # Remove all characters in the remove_chars list from the text\n",
    "    text = ''.join(c for c in text if c not in remove_chars)\n",
    "\n",
    "    text = re.sub(r'\\s+', ' ', text).strip()\n",
    "\n",
    "    return text"
   ]
  },
  {
   "cell_type": "code",
   "execution_count": null,
   "metadata": {},
   "outputs": [],
   "source": [
    "def sentiment_score(text):\n",
    "    words = text.split(\" \")\n",
    "    positive_score = 0\n",
    "    negative_score = 0\n",
    "    for word in words:\n",
    "        if word in lexicon['Word'].values:\n",
    "            positive_score += lexicon.loc[lexicon['Word'] == word, 'Positive Score'].values[0]\n",
    "            negative_score += lexicon.loc[lexicon['Word'] == word, 'Negative Score'].values[0]\n",
    "            finalScore = positive_score - negative_score\n",
    "    return positive_score - negative_score\n",
    "\n",
    "text = clear_text(input())\n",
    "score = sentiment_score(text)\n",
    "if score > 0:\n",
    "    print(\"Positive sentiment\")\n",
    "elif score < 0:\n",
    "    print(\"Negative sentiment\")\n",
    "else:\n",
    "    print(\"Neutral sentiment\")"
   ]
  }
 ],
 "metadata": {
  "kernelspec": {
   "display_name": "Python 3",
   "language": "python",
   "name": "python3"
  },
  "language_info": {
   "codemirror_mode": {
    "name": "ipython",
    "version": 3
   },
   "file_extension": ".py",
   "mimetype": "text/x-python",
   "name": "python",
   "nbconvert_exporter": "python",
   "pygments_lexer": "ipython3",
   "version": "3.8.5"
  },
  "orig_nbformat": 4,
  "vscode": {
   "interpreter": {
    "hash": "84c62ee6248a4e5ebf31bd48a143c192d2ac0bc93e55649f246aaf9958ebedd5"
   }
  }
 },
 "nbformat": 4,
 "nbformat_minor": 2
}

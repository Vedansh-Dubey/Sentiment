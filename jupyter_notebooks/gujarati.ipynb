{
 "cells": [
  {
   "cell_type": "code",
   "execution_count": 1,
   "metadata": {},
   "outputs": [
    {
     "name": "stderr",
     "output_type": "stream",
     "text": [
      "[nltk_data] Downloading package punkt to\n",
      "[nltk_data]     C:\\Users\\vedan\\AppData\\Roaming\\nltk_data...\n",
      "[nltk_data]   Package punkt is already up-to-date!\n"
     ]
    },
    {
     "data": {
      "text/plain": [
       "True"
      ]
     },
     "execution_count": 1,
     "metadata": {},
     "output_type": "execute_result"
    }
   ],
   "source": [
    "from nltk.tokenize import word_tokenize\n",
    "import nltk\n",
    "nltk.download('punkt')\n"
   ]
  },
  {
   "cell_type": "code",
   "execution_count": 2,
   "metadata": {},
   "outputs": [],
   "source": [
    "import pandas as pd"
   ]
  },
  {
   "cell_type": "code",
   "execution_count": 3,
   "metadata": {},
   "outputs": [],
   "source": [
    "df = pd.read_csv('../data/gujarati_data.csv')"
   ]
  },
  {
   "cell_type": "code",
   "execution_count": 4,
   "metadata": {},
   "outputs": [
    {
     "name": "stdout",
     "output_type": "stream",
     "text": [
      "                                            Sentence  Score Stopword\n",
      "0  એક ખૂબ જ, ખૂબ, ખૂબ જ ધીમી ગતિએ ચાલતી, વ્યથિત, ...      0       હે\n",
      "1  ખાતરી નથી કે કોણ વધુ ખોવાઈ ગયું - ફ્લેટ પાત્રો...      0       છુ\n",
      "2  બ્લેક એન્ડ વ્હાઇટ અને ચપળ કેમેરા એંગલ સાથે કલા...      0      છું\n",
      "3             ખૂબ જ ઓછું સંગીત અથવા બોલવા માટે કંઈપણ      0       છે\n",
      "4  મૂવીનો શ્રેષ્ઠ સીન ત્યારે હતો જ્યારે ગેરાર્ડો ...      1       કે\n"
     ]
    }
   ],
   "source": [
    "print(df.head())"
   ]
  },
  {
   "cell_type": "code",
   "execution_count": 5,
   "metadata": {},
   "outputs": [],
   "source": [
    "def remove_stopwords(sentence):\n",
    "    words = word_tokenize(sentence)\n",
    "    words = [word for word in words if word not in df['Stopword']]\n",
    "    return \" \".join(words)"
   ]
  },
  {
   "cell_type": "code",
   "execution_count": 6,
   "metadata": {},
   "outputs": [],
   "source": [
    "import re\n",
    "import string\n",
    "\n",
    "import string\n",
    "\n",
    "def clear_text(text):\n",
    "    # List of all English characters and numbers\n",
    "    eng_chars = string.ascii_letters + string.digits\n",
    "\n",
    "    # List of all punctuation characters\n",
    "    punc_chars = string.punctuation\n",
    "\n",
    "    # Combine the two lists\n",
    "    remove_chars = eng_chars + punc_chars\n",
    "\n",
    "    # Remove all characters in the remove_chars list from the text\n",
    "    text = ''.join(c for c in text if c not in remove_chars)\n",
    "\n",
    "    text = re.sub(r'\\s+', ' ', text).strip()\n",
    "\n",
    "    return text"
   ]
  },
  {
   "cell_type": "code",
   "execution_count": 7,
   "metadata": {},
   "outputs": [
    {
     "name": "stdout",
     "output_type": "stream",
     "text": [
      "                                            Sentence  Score Stopword\n",
      "0  એક ખૂબ જ ખૂબ ખૂબ જ ધીમી ગતિએ ચાલતી વ્યથિત વહી ...      0       હે\n",
      "1  ખાતરી નથી કે કોણ વધુ ખોવાઈ ગયું ફ્લેટ પાત્રો અ...      0       છુ\n",
      "2  બ્લેક એન્ડ વ્હાઇટ અને ચપળ કેમેરા એંગલ સાથે કલા...      0      છું\n",
      "3             ખૂબ જ ઓછું સંગીત અથવા બોલવા માટે કંઈપણ      0       છે\n",
      "4  મૂવીનો શ્રેષ્ઠ સીન ત્યારે હતો જ્યારે ગેરાર્ડો ...      1       કે\n"
     ]
    }
   ],
   "source": [
    "df[\"Sentence\"] = df[\"Sentence\"].apply(clear_text)\n",
    "print(df.head())\n"
   ]
  },
  {
   "cell_type": "code",
   "execution_count": 8,
   "metadata": {},
   "outputs": [],
   "source": [
    "main_data = df[\"Sentence\"].tolist()\n"
   ]
  },
  {
   "cell_type": "code",
   "execution_count": 9,
   "metadata": {},
   "outputs": [],
   "source": [
    "from sklearn.feature_extraction.text import TfidfVectorizer\n"
   ]
  },
  {
   "cell_type": "code",
   "execution_count": 10,
   "metadata": {},
   "outputs": [],
   "source": [
    "vectorizer = TfidfVectorizer()\n",
    "X = vectorizer.fit_transform(main_data)\n"
   ]
  },
  {
   "cell_type": "code",
   "execution_count": 11,
   "metadata": {},
   "outputs": [],
   "source": [
    "from sklearn.linear_model import LogisticRegression\n",
    "from sklearn.neighbors import KNeighborsClassifier\n",
    "from sklearn.ensemble import RandomForestClassifier\n",
    "from sklearn.model_selection import train_test_split\n",
    "from sklearn.ensemble import GradientBoostingClassifier\n",
    "from sklearn.svm import SVC\n"
   ]
  },
  {
   "cell_type": "code",
   "execution_count": 12,
   "metadata": {},
   "outputs": [],
   "source": [
    "# Split the data into training and test sets\n",
    "X_train, X_test, y_train, y_test = train_test_split(\n",
    "    X, df['Score'], test_size=0.3, random_state=4)\n"
   ]
  },
  {
   "cell_type": "code",
   "execution_count": 13,
   "metadata": {},
   "outputs": [],
   "source": [
    "LogReg = LogisticRegression().fit(X_train, y_train)\n",
    "accuracy1 = LogReg.score(X_test, y_test)\n"
   ]
  },
  {
   "cell_type": "code",
   "execution_count": 14,
   "metadata": {},
   "outputs": [],
   "source": [
    "RandForest = RandomForestClassifier().fit(X_train, y_train)\n",
    "accuracy2 = RandForest.score(X_test, y_test)\n"
   ]
  },
  {
   "cell_type": "code",
   "execution_count": 15,
   "metadata": {},
   "outputs": [],
   "source": [
    "KNeighbors = KNeighborsClassifier(n_neighbors=10).fit(X_train, y_train)\n",
    "accuracy3 = KNeighbors.score(X_test, y_test)\n"
   ]
  },
  {
   "cell_type": "code",
   "execution_count": 16,
   "metadata": {},
   "outputs": [],
   "source": [
    "SupportVec = SVC().fit(X_train, y_train)\n",
    "accuracy4 = SupportVec.score(X_test, y_test)\n"
   ]
  },
  {
   "cell_type": "code",
   "execution_count": 17,
   "metadata": {},
   "outputs": [],
   "source": [
    "GBC = GradientBoostingClassifier(\n",
    "    n_estimators=100, learning_rate=0.1, max_depth=25, random_state=2)\n",
    "GBC.fit(X_train, y_train)\n",
    "accuracy5 = GBC.score(X_test, y_test)\n"
   ]
  },
  {
   "cell_type": "code",
   "execution_count": 18,
   "metadata": {},
   "outputs": [
    {
     "name": "stdout",
     "output_type": "stream",
     "text": [
      "Accuracy 1: 66.78200692041523\n",
      "Accuracy 2: 67.82006920415225\n",
      "Accuracy 3: 63.667820069204154\n",
      "Accuracy 4: 67.35870818915801\n",
      "Accuracy 5: 67.01268742791234\n"
     ]
    }
   ],
   "source": [
    "for i in range(1, 6):\n",
    "    print(\"Accuracy {}: {}\".format(i, eval(\"accuracy\" + str(i))*100))\n"
   ]
  },
  {
   "cell_type": "code",
   "execution_count": 19,
   "metadata": {},
   "outputs": [],
   "source": [
    "import numpy as np"
   ]
  },
  {
   "cell_type": "code",
   "execution_count": 20,
   "metadata": {},
   "outputs": [],
   "source": [
    "def sentiPrediction(input_data):\n",
    "    input_data = remove_stopwords(input_data)\n",
    "    print(input_data)\n",
    "    new_statement = vectorizer.transform([input_data])\n",
    "    prediction1 = LogReg.predict(new_statement)\n",
    "    prediction2 = RandForest.predict(new_statement)\n",
    "    prediction3 = SupportVec.predict(new_statement)\n",
    "    prediction4 = GBC.predict(new_statement)\n",
    "    prediction5 = KNeighbors.predict(new_statement)\n",
    "    all_predictions = [prediction1[0], prediction2[0],\n",
    "                       prediction3[0], prediction4[0], prediction5[0]]\n",
    "    print(all_predictions)\n",
    "    final_prediction = np.bincount(all_predictions).argmax()\n",
    "    print(\"The final prediction for the new statement is:\", final_prediction)\n"
   ]
  },
  {
   "cell_type": "code",
   "execution_count": 21,
   "metadata": {},
   "outputs": [],
   "source": [
    "import pickle"
   ]
  },
  {
   "cell_type": "code",
   "execution_count": 22,
   "metadata": {},
   "outputs": [],
   "source": [
    "# Saving the Logistic Regression model\n",
    "with open('LogReg_gujarati.pickle', 'wb') as handle:\n",
    "    pickle.dump(LogReg, handle, protocol=pickle.HIGHEST_PROTOCOL)\n",
    "\n",
    "# Saving the Random Forest model\n",
    "with open('RandForest_gujarati.pickle', 'wb') as handle:\n",
    "    pickle.dump(RandForest, handle, protocol=pickle.HIGHEST_PROTOCOL)\n",
    "\n",
    "# Saving the KNeighbors model\n",
    "with open('KNeighbors_gujarati.pickle', 'wb') as handle:\n",
    "    pickle.dump(KNeighbors, handle, protocol=pickle.HIGHEST_PROTOCOL)\n",
    "\n",
    "# Saving the Support Vector Machine model\n",
    "with open('SupportVec_gujarati.pickle', 'wb') as handle:\n",
    "    pickle.dump(SupportVec, handle, protocol=pickle.HIGHEST_PROTOCOL)\n",
    "\n",
    "# Saving the Gradient Boosting model\n",
    "with open('GBC_gujarati.pickle', 'wb') as handle:\n",
    "    pickle.dump(GBC, handle, protocol=pickle.HIGHEST_PROTOCOL)\n"
   ]
  },
  {
   "cell_type": "code",
   "execution_count": 24,
   "metadata": {},
   "outputs": [
    {
     "name": "stdout",
     "output_type": "stream",
     "text": [
      "\n",
      "[0, 0, 0, 0, 0]\n",
      "The final prediction for the new statement is: 0\n"
     ]
    }
   ],
   "source": [
    "text = input()\n",
    "sentiPrediction(text)"
   ]
  },
  {
   "cell_type": "code",
   "execution_count": null,
   "metadata": {},
   "outputs": [],
   "source": [
    "with open(\"vectorizer_gujarati.pickle\", \"wb\") as f:\n",
    "    pickle.dump(vectorizer, f)"
   ]
  }
 ],
 "metadata": {
  "kernelspec": {
   "display_name": "Python 3",
   "language": "python",
   "name": "python3"
  },
  "language_info": {
   "codemirror_mode": {
    "name": "ipython",
    "version": 3
   },
   "file_extension": ".py",
   "mimetype": "text/x-python",
   "name": "python",
   "nbconvert_exporter": "python",
   "pygments_lexer": "ipython3",
   "version": "3.8.5"
  },
  "orig_nbformat": 4,
  "vscode": {
   "interpreter": {
    "hash": "84c62ee6248a4e5ebf31bd48a143c192d2ac0bc93e55649f246aaf9958ebedd5"
   }
  }
 },
 "nbformat": 4,
 "nbformat_minor": 2
}
